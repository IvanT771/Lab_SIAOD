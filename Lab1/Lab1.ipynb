{
 "cells": [
  {
   "cell_type": "markdown",
   "metadata": {},
   "source": [
    "# Лабораторная работа №1. Методы сортировки.\n",
    "Князев И.В БВТ1904"
   ]
  },
  {
   "cell_type": "markdown",
   "metadata": {},
   "source": [
    "Задание:\n",
    "Реализовать заданный метод сортировки строк числовой матрицы в соответствии с индивидуальным заданием. Для всех вариантов добавить реализацию быстрой сортировки (quicksort). Оценить время работы каждого алгоритма сортировки и сравнить его со временем стандартной функции сортировки, используемой в выбранном языке программирования.\n"
   ]
  },
  {
   "cell_type": "markdown",
   "metadata": {},
   "source": [
    "# Сортировка выбором"
   ]
  },
  {
   "cell_type": "code",
   "execution_count": 10,
   "metadata": {},
   "outputs": [
    {
     "name": "stdout",
     "output_type": "stream",
     "text": [
      "0.020050764083862305\n",
      "[16, 39, 51, 75, 96, 142, 157, 176, 217, 254, 286, 302, 304, 335, 336, 343, 349, 381, 406, 448, 496, 498, 508, 519, 519, 553, 557, 591, 592, 602, 635, 665, 702, 719, 735, 746, 778, 807, 817, 822, 825, 833, 840, 864, 873, 874, 898, 903, 929, 943]\n"
     ]
    }
   ],
   "source": [
    "import time\n",
    "import random\n",
    "\n",
    "def random_matrix(m = 50, n = 50, min_limit = 0, max_limit = 1000):\n",
    "    return [[random.randint(min_limit, max_limit) for _ in range(n)] for _ in range(m)]\n",
    "\n",
    "arr = random_matrix()\n",
    "\n",
    "#Сортировка выбором\n",
    "time_start = time.time()\n",
    "for z in range(0,50,1):\n",
    "    a = arr[z]\n",
    "\n",
    "    for i in range(0,len(a),1):\n",
    "         minIndex = i\n",
    "         for j in range(i+1,len(a),1):\n",
    "             if a[j] < a[minIndex]:\n",
    "                 minIndex = j\n",
    "         buf = a[i]\n",
    "         a[i] = a[minIndex]\n",
    "         a[minIndex] = buf\n",
    "    arr[z] = a\n",
    "print(time.time() - time_start)\n",
    "print(arr[0])"
   ]
  },
  {
   "cell_type": "markdown",
   "metadata": {},
   "source": [
    "# Сортировка вставкой"
   ]
  },
  {
   "cell_type": "code",
   "execution_count": 12,
   "metadata": {},
   "outputs": [
    {
     "name": "stdout",
     "output_type": "stream",
     "text": [
      "0.012319326400756836\n",
      "[21, 52, 63, 81, 98, 105, 115, 136, 165, 166, 172, 195, 201, 211, 226, 230, 245, 251, 264, 280, 294, 346, 363, 383, 383, 391, 414, 433, 460, 468, 499, 523, 542, 553, 590, 600, 629, 631, 648, 656, 662, 695, 719, 755, 934, 940, 954, 961, 969, 986]\n"
     ]
    }
   ],
   "source": [
    "#Сортировка вставкой\n",
    "arr = random_matrix()\n",
    "time_start = time.time()\n",
    "for z in range(0,50,1):\n",
    "    a = arr[z]\n",
    "    for i in range(1,len(a),1):\n",
    "         buf = a[i]\n",
    "         j = i - 1\n",
    "         while j>=0 and a[j] > buf:\n",
    "             a[j+1] = a[j]\n",
    "             j=j-1\n",
    "         a[j+1] = buf\n",
    "    arr[z] = a\n",
    "print(time.time() - time_start)\n",
    "print(arr[0])"
   ]
  },
  {
   "cell_type": "markdown",
   "metadata": {},
   "source": [
    "# Сортировка обменом"
   ]
  },
  {
   "cell_type": "code",
   "execution_count": 16,
   "metadata": {},
   "outputs": [
    {
     "name": "stdout",
     "output_type": "stream",
     "text": [
      "0.03914189338684082\n",
      "[30, 38, 46, 80, 88, 107, 109, 124, 151, 186, 209, 218, 222, 232, 245, 246, 275, 301, 306, 317, 369, 392, 409, 444, 490, 516, 521, 527, 538, 547, 550, 564, 580, 594, 615, 636, 641, 674, 679, 711, 746, 753, 755, 757, 821, 822, 836, 843, 885, 887]\n"
     ]
    }
   ],
   "source": [
    "#Сортировка обменом\n",
    "arr = random_matrix()\n",
    "time_start = time.time()\n",
    "for z in range(0,50,1):\n",
    "    a = arr[z]\n",
    "    for i in range(0,len(a),1):\n",
    "         for j in range(0,len(a)-1,1):\n",
    "             if a[j] > a[j+1]:\n",
    "                 buf = a[j]\n",
    "                 a[j] = a[j+1]\n",
    "                 a[j+1] = buf\n",
    "    arr[z] = a\n",
    "print(time.time() - time_start)\n",
    "print(arr[0])"
   ]
  },
  {
   "cell_type": "markdown",
   "metadata": {},
   "source": [
    "# Сортировка Шелла"
   ]
  },
  {
   "cell_type": "code",
   "execution_count": 17,
   "metadata": {},
   "outputs": [
    {
     "name": "stdout",
     "output_type": "stream",
     "text": [
      "0.01549386978149414\n",
      "[18, 20, 27, 54, 66, 97, 148, 153, 224, 236, 275, 281, 291, 306, 316, 317, 328, 341, 365, 369, 383, 453, 483, 486, 490, 505, 535, 543, 556, 557, 583, 588, 616, 618, 622, 637, 658, 715, 728, 742, 755, 802, 811, 812, 813, 873, 888, 893, 929, 1000]\n"
     ]
    }
   ],
   "source": [
    "#Сортировка Шелла\n",
    "arr = random_matrix()\n",
    "time_start = time.time()\n",
    "for z in range(0,50,1):\n",
    "    a = arr[z]\n",
    "    d=len(a)\n",
    "    d=d//2\n",
    "    while d>0:\n",
    "        for i in range(0,len(a)-d,1):\n",
    "            j=i\n",
    "            while j>=0 and a[j] > a[j+d]:\n",
    "                buf=a[j]\n",
    "                a[j]=a[j+d]\n",
    "                a[j+d]=buf\n",
    "                j=j-1\n",
    "        d=d//2\n",
    "    arr[z] = a\n",
    "print(time.time() - time_start)\n",
    "print(arr[0])"
   ]
  },
  {
   "cell_type": "markdown",
   "metadata": {},
   "source": [
    "# Стандартная сортировка"
   ]
  },
  {
   "cell_type": "code",
   "execution_count": 18,
   "metadata": {},
   "outputs": [
    {
     "name": "stdout",
     "output_type": "stream",
     "text": [
      "0.0004088878631591797\n",
      "[0, 19, 35, 52, 65, 135, 148, 166, 190, 205, 245, 291, 299, 321, 328, 346, 368, 432, 452, 457, 462, 530, 557, 573, 574, 581, 612, 632, 649, 670, 675, 689, 767, 794, 805, 820, 822, 827, 889, 892, 899, 920, 922, 928, 930, 936, 939, 945, 987, 996]\n"
     ]
    }
   ],
   "source": [
    "arr = random_matrix()\n",
    "time_start = time.time()\n",
    "for z in range(0,50,1):\n",
    "    a = arr[z]\n",
    "    a.sort()\n",
    "    arr[z] = a\n",
    "print(time.time() - time_start)\n",
    "print(arr[0])"
   ]
  },
  {
   "cell_type": "code",
   "execution_count": null,
   "metadata": {},
   "outputs": [],
   "source": []
  }
 ],
 "metadata": {
  "kernelspec": {
   "display_name": "Python 3",
   "language": "python",
   "name": "python3"
  },
  "language_info": {
   "codemirror_mode": {
    "name": "ipython",
    "version": 3
   },
   "file_extension": ".py",
   "mimetype": "text/x-python",
   "name": "python",
   "nbconvert_exporter": "python",
   "pygments_lexer": "ipython3",
   "version": "3.8.5"
  }
 },
 "nbformat": 4,
 "nbformat_minor": 4
}
